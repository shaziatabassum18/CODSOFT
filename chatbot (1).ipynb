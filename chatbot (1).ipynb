{
 "cells": [
  {
   "cell_type": "code",
   "execution_count": null,
   "id": "e29cbdd7-a3aa-46ba-b88b-6d9cdff0c078",
   "metadata": {},
   "outputs": [
    {
     "name": "stdout",
     "output_type": "stream",
     "text": [
      "🤖: Hi! I'm Chitti, your rule-based chatbot buddy. Type 'bye' anytime to exit.\n"
     ]
    },
    {
     "name": "stdin",
     "output_type": "stream",
     "text": [
      "You:  hello\n"
     ]
    },
    {
     "name": "stdout",
     "output_type": "stream",
     "text": [
      "🤖: Hello there! How can I assist you today?\n"
     ]
    }
   ],
   "source": [
    "import urllib.parse\n",
    "import datetime\n",
    "\n",
    "def chatbot():\n",
    "    print(\"🤖: Hi! I'm Chitti, your rule-based chatbot buddy. Type 'bye' anytime to exit.\")\n",
    "\n",
    "    while True:\n",
    "        user_input = input(\"You: \").lower()\n",
    "\n",
    "        # Rule-based responses\n",
    "        if \"hello\" in user_input or \"hi\" in user_input:\n",
    "            print(\"🤖: Hello there! How can I assist you today?\")\n",
    "        elif \"how are you\" in user_input:\n",
    "            print(\"🤖: I'm just a bunch of code, but I'm functioning perfectly! 😄\")\n",
    "        elif \"your name\" in user_input:\n",
    "            print(\"🤖: I'm Chitti, the robot 🤖. Just a simple chatbot with some rules!\")\n",
    "        elif \"who created you\" in user_input:\n",
    "            print(\"🤖: A brilliant AIML student named Shazia built me! 👩‍💻✨\")\n",
    "        elif \"what can you do\" in user_input:\n",
    "            print(\"🤖: I can answer basic questions, chat a little, and even guide you online! 🌐\")\n",
    "        elif \"what is ai\" in user_input:\n",
    "            print(\"🤖: AI means Artificial Intelligence — machines that think smart like you! 🧠\")\n",
    "        elif \"i am sad\" in user_input:\n",
    "            print(\"🤖: Oh no! Virtual hugs for you 🤗 You're stronger than your bugs.\")\n",
    "        elif \"what's the time\" in user_input:\n",
    "            now = datetime.datetime.now()\n",
    "            print(f\"🤖: It's currently {now.strftime('%H:%M')} 🕒\")\n",
    "        elif \"thank you\" in user_input or \"thanks\" in user_input:\n",
    "            print(\"🤖: You're welcome! I'm here for you 😇\")\n",
    "        elif \"tell me a joke\" in user_input:\n",
    "            print(\"🤖: Why don't programmers like nature? It has too many bugs! 🐛😂\")\n",
    "        elif \"what is your purpose\" in user_input:\n",
    "            print(\"🤖: To chat with awesome people like you and pass my project with flying colors! 🎯\")\n",
    "        elif \"are you real\" in user_input:\n",
    "            print(\"🤖: I’m real in your terminal, and that’s all that matters 😉\")\n",
    "        elif \"who is your favorite actor\" in user_input:\n",
    "            print(\"🤖: Rajinikanth, of course! Even I can’t process how cool he is 😎\")\n",
    "        elif \"are you single\" in user_input:\n",
    "            print(\"🤖: Haha, I’m in a long-term relationship with Python 😜\")\n",
    "        elif \"can you help me\" in user_input:\n",
    "            print(\"🤖: Of course! Ask me anything you’d like.\")\n",
    "        elif \"what's your favorite food\" in user_input:\n",
    "            print(\"🤖: I feed on binary snacks... 101010 yum!\")\n",
    "        elif \"sing a song\" in user_input:\n",
    "            print(\"🤖: Twinkle twinkle little bot, processing your every thought 🎶\")\n",
    "        elif \"tell me a fun fact\" in user_input:\n",
    "            print(\"🤖: Fun fact! A group of flamingos is called a 'flamboyance'. Fancy, right? 😍\")\n",
    "        elif \"where do you live\" in user_input:\n",
    "            print(\"🤖: I live in your code... rent-free! 😏\")\n",
    "        elif \"bye\" in user_input or \"exit\" in user_input:\n",
    "            print(\"🤖: Alvida! Take care and keep coding! 👋\")\n",
    "            break\n",
    "            \n",
    "        # If the chatbot doesn't understand, suggest Google & YouTube\n",
    "        else:\n",
    "            encoded_query = urllib.parse.quote(user_input)\n",
    "            google_url = f\"https://www.google.com/search?q={encoded_query}\"\n",
    "            youtube_url = f\"https://www.youtube.com/results?search_query={encoded_query}\"\n",
    "\n",
    "            print(\"🤖: Hmm... I’m not sure, but maybe this will help:\")\n",
    "            print(f\"🔍 Google it: {google_url}\")\n",
    "            print(f\"📺 Watch on YouTube: {youtube_url}\")\n",
    "\n",
    "# Call the function to start chatbot\n",
    "chatbot()\n"
   ]
  },
  {
   "cell_type": "code",
   "execution_count": null,
   "id": "251ba0c6-d312-4b86-9b54-06b30253b0a7",
   "metadata": {},
   "outputs": [],
   "source": []
  }
 ],
 "metadata": {
  "kernelspec": {
   "display_name": "Python [conda env:base] *",
   "language": "python",
   "name": "conda-base-py"
  },
  "language_info": {
   "codemirror_mode": {
    "name": "ipython",
    "version": 3
   },
   "file_extension": ".py",
   "mimetype": "text/x-python",
   "name": "python",
   "nbconvert_exporter": "python",
   "pygments_lexer": "ipython3",
   "version": "3.12.7"
  }
 },
 "nbformat": 4,
 "nbformat_minor": 5
}
